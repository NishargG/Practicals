{
  "nbformat": 4,
  "nbformat_minor": 0,
  "metadata": {
    "colab": {
      "name": "Python Practicals 1-15 by Nisharg Gosai_180050131513.ipynb",
      "provenance": [],
      "collapsed_sections": [],
      "authorship_tag": "ABX9TyMrHIl4K8iSwY4tCCvZnJUv",
      "include_colab_link": true
    },
    "kernelspec": {
      "name": "python3",
      "display_name": "Python 3"
    }
  },
  "cells": [
    {
      "cell_type": "markdown",
      "metadata": {
        "id": "view-in-github",
        "colab_type": "text"
      },
      "source": [
        "<a href=\"https://colab.research.google.com/github/NishargG/Practicals/blob/master/Python_Practicals_1_15_by_Nisharg_Gosai_180050131513.ipynb\" target=\"_parent\"><img src=\"https://colab.research.google.com/assets/colab-badge.svg\" alt=\"Open In Colab\"/></a>"
      ]
    },
    {
      "cell_type": "markdown",
      "metadata": {
        "id": "MNofYXeRssNs",
        "colab_type": "text"
      },
      "source": [
        "### PYTHON PRACTICALS"
      ]
    },
    {
      "cell_type": "markdown",
      "metadata": {
        "id": "O22VU2rmqZVS",
        "colab_type": "text"
      },
      "source": [
        "Practical 1\n",
        "Write a program to find sum of two integers"
      ]
    },
    {
      "cell_type": "code",
      "metadata": {
        "id": "lAv1N2hnpzDx",
        "colab_type": "code",
        "colab": {
          "base_uri": "https://localhost:8080/",
          "height": 67
        },
        "outputId": "1bb5095b-e2fa-4478-d4e0-a218ddf760d5"
      },
      "source": [
        "a=int(input(\"Enter first number:\") )\n",
        "b=int(input(\"Enter second number:\") )\n",
        "sum=a+b\n",
        "print (sum)"
      ],
      "execution_count": null,
      "outputs": [
        {
          "output_type": "stream",
          "text": [
            "Enter first number:2\n",
            "Enter second number:3\n",
            "5\n"
          ],
          "name": "stdout"
        }
      ]
    },
    {
      "cell_type": "markdown",
      "metadata": {
        "id": "w1I-_E8bqcwZ",
        "colab_type": "text"
      },
      "source": [
        "Practical 2\n",
        "Write a python program to find area of circle. "
      ]
    },
    {
      "cell_type": "code",
      "metadata": {
        "id": "gjGh7cJ8qeN1",
        "colab_type": "code",
        "colab": {
          "base_uri": "https://localhost:8080/",
          "height": 84
        },
        "outputId": "150bf9a1-7a88-43b2-e3ed-fee402b6902f"
      },
      "source": [
        "r=float(input(\"Enter radius of circle\\n\"))\n",
        "area=3.14*r*r \n",
        "print (\"The area of circle is:\")\n",
        "print (area)"
      ],
      "execution_count": null,
      "outputs": [
        {
          "output_type": "stream",
          "text": [
            "Enter radius of circle\n",
            "5\n",
            "The area of circle is:\n",
            "78.5\n"
          ],
          "name": "stdout"
        }
      ]
    },
    {
      "cell_type": "markdown",
      "metadata": {
        "id": "3xje-jJ6sLvc",
        "colab_type": "text"
      },
      "source": [
        "Practical 3\n",
        "Write a python program which input string and perform operations like finding length of string, convert string into upper case, lower case, finding no of occurrences of character."
      ]
    },
    {
      "cell_type": "code",
      "metadata": {
        "id": "dzZuYlTBsOh5",
        "colab_type": "code",
        "colab": {
          "base_uri": "https://localhost:8080/",
          "height": 101
        },
        "outputId": "f36342bb-b3e0-423c-bc09-91129285dea8"
      },
      "source": [
        "str1= \"Hello my name is Nisharg Gosai and I am from Vadodara\"\n",
        "print (str1)\n",
        "print(\"Length of string is:\",len(str1))\n",
        "print(\"The string into upper case is:\",str1.upper())\n",
        "print(\"The string in lower case is:\",str1.lower())\n",
        "print(\"The number of times alphabet a occurs in the string\",str1.count('a'))"
      ],
      "execution_count": null,
      "outputs": [
        {
          "output_type": "stream",
          "text": [
            "Hello my name is Nisharg Gosai and I am from Vadodara\n",
            "Length of string is: 53\n",
            "The string into upper case is: HELLO MY NAME IS NISHARG GOSAI AND I AM FROM VADODARA\n",
            "The string in lower case is: hello my name is nisharg gosai and i am from vadodara\n",
            "The number of times alphabet a occurs in the string 8\n"
          ],
          "name": "stdout"
        }
      ]
    },
    {
      "cell_type": "markdown",
      "metadata": {
        "id": "21AXR83QulYw",
        "colab_type": "text"
      },
      "source": [
        "Practical 4\n",
        "Write a python program which input an array/s and perform various operations on it like, finding length, insert element, delete element, search, update element, concatenation. \n"
      ]
    },
    {
      "cell_type": "code",
      "metadata": {
        "id": "wKHwRZoRunPF",
        "colab_type": "code",
        "colab": {
          "base_uri": "https://localhost:8080/",
          "height": 269
        },
        "outputId": "f5ec413d-83ea-4854-ec6c-52931cbe7437"
      },
      "source": [
        "array1 = [] \n",
        "\n",
        "n = int(input(\"Enter number of elements : \")) \n",
        "  \n",
        "# iterating till the range \n",
        "for i in range(0, n): \n",
        "    ele = int(input()) \n",
        "  \n",
        "    array1.append(ele) # adding the element \n",
        "      \n",
        "print(array1)\n",
        "\n",
        "print(\"The length of array 1 is:\",len(array1))\n",
        "\n",
        "x=int(input(\"Enter the element you want to append:\"))\n",
        "array1.append(x)\n",
        "print(array1)\n",
        "\n",
        "y=int(input(\"Enter the element you want to remove:\"))\n",
        "array1.remove(y)\n",
        "print(array1)\n",
        "\n",
        "m=int(input(\"enter element to be searched:\"))\n",
        "if (m in array1): \n",
        "    print (\"Element Exists\") \n",
        "else:\n",
        "    print (\"Element does not exist\")\n",
        "\n",
        "array2=[5,6,7,8,9]\n",
        "\n",
        "array3=array1+array2\n",
        "print(\"the concatenated array is:\",array3)\n",
        "\n"
      ],
      "execution_count": 1,
      "outputs": [
        {
          "output_type": "stream",
          "text": [
            "Enter number of elements : 5\n",
            "1\n",
            "2\n",
            "3\n",
            "4\n",
            "5\n",
            "[1, 2, 3, 4, 5]\n",
            "The length of array 1 is: 5\n",
            "Enter the element you want to append:0\n",
            "[1, 2, 3, 4, 5, 0]\n",
            "Enter the element you want to remove:5\n",
            "[1, 2, 3, 4, 0]\n",
            "enter element to be searched:2\n",
            "Element Exists\n",
            "[1, 2, 3, 4, 0, 5, 6, 7, 8, 9]\n"
          ],
          "name": "stdout"
        }
      ]
    },
    {
      "cell_type": "markdown",
      "metadata": {
        "id": "VwwAdWp_3y68",
        "colab_type": "text"
      },
      "source": [
        "Practical 5 Write a python program which input list and perform operations like find length of list, insert element into list, remove element from list, clear whole list, copy list, slicing of list, search element, join two lists, extend list"
      ]
    },
    {
      "cell_type": "code",
      "metadata": {
        "id": "whmDlMg433O7",
        "colab_type": "code",
        "colab": {}
      },
      "source": [
        "lst1 = [] \n",
        "\n",
        "n = int(input(\"Enter number of elements : \")) \n",
        "  \n",
        "# iterating till the range \n",
        "for i in range(0, n): \n",
        "    ele = int(input()) \n",
        "  \n",
        "    lst1.append(ele) # adding the element \n",
        "      \n",
        "print(lst1)\n",
        "\n",
        "print(\"The length of the list is:\",len(lst1))\n",
        "\n",
        "x=int(input(\"Enter the element you want to append:\"))\n",
        "lst1.append(x)\n",
        "print(lst1)\n",
        "\n",
        "y=int(input(\"Enter the element you want to remove:\"))\n",
        "lst1.remove(y)\n",
        "print(lst1)\n",
        "\n",
        "lst2=lst1.copy()\n",
        "print(\"the copied list is:\",lst2)\n",
        "\n",
        "lst5 = lst1[1:4]\n",
        "print(\"The sliced list is:\",lst5)\n",
        "\n",
        "m=int(input(\"enter element to be searched:\"))\n",
        "if (m in lst1): \n",
        "    print (\"Element Exists\") \n",
        "else:\n",
        "    print (\"Element does not exist\")\n",
        "\n",
        "lst3=[7,8,9]\n",
        "lst4=lst1+lst3\n",
        "print(\"The new joined list is\",lst4)\n",
        "\n",
        "lst1.extend(lst3)\n",
        "print(\"List 1 is extended using List 3\",lst1)\n",
        "\n",
        "print(\"clearing list\")\n",
        "lst1.clear()\n",
        "print(lst1)"
      ],
      "execution_count": null,
      "outputs": []
    },
    {
      "cell_type": "markdown",
      "metadata": {
        "id": "1ow85vuUFd0y",
        "colab_type": "text"
      },
      "source": [
        "Practical 6  Write a python program which find length of tuple, create tuple with repetition, performs slicing of tuple, delete tuple, concatenation tuples, and convert list into tuple."
      ]
    },
    {
      "cell_type": "code",
      "metadata": {
        "id": "ZgpRmYnrFjaZ",
        "colab_type": "code",
        "colab": {
          "base_uri": "https://localhost:8080/",
          "height": 134
        },
        "outputId": "21ade998-e6da-4318-a1fa-bb5e452aecf3"
      },
      "source": [
        "numbers_tuple=(1,2,3,4,5)\n",
        "letters_tuple=(\"apple\",\"banana\",\"cherry\")\n",
        "\n",
        "print(\"the length of numbers_tuple is:\",len(numbers_tuple))\n",
        "print(\"the length of letters_tuple is:\",len(letters_tuple))\n",
        "\n",
        "print(\"creating tuples with repetition\")\n",
        "new_numbers_tuple=(1,2,3,4,5)*3\n",
        "print(\"repeatition\",new_numbers_tuple)\n",
        "\n",
        "tupl=numbers_tuple[0:3]\n",
        "print(\"After slicing\",tupl)\n",
        "\n",
        "\n",
        "del new_numbers_tuple #deleting tuple\n",
        "\n",
        "res=numbers_tuple+letters_tuple #joining tuple\n",
        "print(\"joined tuple\",res)\n",
        "\n",
        "x=[0,2,3,4,5,6,1,] \n",
        "y=tuple(x) #converting list into tuple\n",
        "print(\"list converted into tuple\",y)"
      ],
      "execution_count": null,
      "outputs": [
        {
          "output_type": "stream",
          "text": [
            "the length of numbers_tuple is: 5\n",
            "the length of letters_tuple is: 3\n",
            "creating tuples with repetition\n",
            "repeatition (1, 2, 3, 4, 5, 1, 2, 3, 4, 5, 1, 2, 3, 4, 5)\n",
            "After slicing (1, 2, 3)\n",
            "joined tuple (1, 2, 3, 4, 5, 'apple', 'banana', 'cherry')\n",
            "list converted into tuple (0, 2, 3, 4, 5, 6, 1)\n"
          ],
          "name": "stdout"
        }
      ]
    },
    {
      "cell_type": "markdown",
      "metadata": {
        "id": "aCdzy4qhFj5F",
        "colab_type": "text"
      },
      "source": [
        "Practical 7 Write a python program which print set, search items in set, add item, add multiple items, find the length of set, delete the element from set using various methods, empty the set using various methods, and join two sets."
      ]
    },
    {
      "cell_type": "code",
      "metadata": {
        "id": "EYOK1J6rFqfj",
        "colab_type": "code",
        "colab": {
          "base_uri": "https://localhost:8080/",
          "height": 235
        },
        "outputId": "10434dea-6e73-4385-91ae-4459b7738013"
      },
      "source": [
        "set1={1,2,3,4,5}\n",
        "print(set1)\n",
        "\n",
        "#searching item in set\n",
        "n=int(input(\"enter the element to be searched:\"))\n",
        "if (n in set1):\n",
        "    print(\"element present\")\n",
        "else:\n",
        "    print(\"element not found\")\n",
        "\n",
        "#adding items in set\n",
        "set1.add(6)\n",
        "print(\"\\nafter adding one item in set:\",set1)\n",
        "\n",
        "#adding multiple items\n",
        "set1.update([7,8,9])\n",
        "print(\"\\nafter adding multiple items in set:\",set1)\n",
        "\n",
        "#finding length of the set\n",
        "print(\"\\nthe length of set is:\",len(set1))\n",
        "\n",
        "#delete element from set\n",
        "set1.remove(8)\n",
        "set1.remove(9)\n",
        "print(\"\\nafter using discard and remove function to delete element from set\",set1)\n",
        "\n",
        "#emptying the set using clear and delete methods\n",
        "set2={1,2,3,4,5,6}\n",
        "set1.clear()\n",
        "del set2\n",
        "print(\"\\nthe set after emptying:\",set1)\n",
        "\n",
        "#joining two sets\n",
        "set3={1,2,3,4,5}\n",
        "set4={6,7,8,9,10}\n",
        "set5=set3.union(set4)\n",
        "print(\"\\nthe set after joining two sets:\",set5)"
      ],
      "execution_count": 17,
      "outputs": [
        {
          "output_type": "stream",
          "text": [
            "{1, 2, 3, 4, 5}\n",
            "enter the element to be searched:3\n",
            "element present\n",
            "\n",
            "after adding one item in set: {1, 2, 3, 4, 5, 6}\n",
            "\n",
            "after adding multiple items in set: {1, 2, 3, 4, 5, 6, 7, 8, 9}\n",
            "\n",
            "the length of set is: 9\n",
            "\n",
            "after using discard and remove function to delete element from set {1, 2, 3, 4, 5, 6, 7}\n",
            "the set after emptying: set()\n",
            "the set after joining two sets: {1, 2, 3, 4, 5, 6, 7, 8, 9, 10}\n"
          ],
          "name": "stdout"
        }
      ]
    },
    {
      "cell_type": "markdown",
      "metadata": {
        "id": "E2_Esh6WFq3F",
        "colab_type": "text"
      },
      "source": [
        "Practical 8 Write a python program which print dictionary, accessing items of dictionary using various methods, change value of specific item, display dictionary using loop, display dictionary using loop and items() method, check key is exist or not in dictionary, find length of dictionary, add items in dictionary, remove items from dictionary using various methods, empty dictionary using various methods, copy dictionary using various methods."
      ]
    },
    {
      "cell_type": "code",
      "metadata": {
        "id": "W2O-j7HzGEoZ",
        "colab_type": "code",
        "colab": {}
      },
      "source": [
        ""
      ],
      "execution_count": null,
      "outputs": []
    },
    {
      "cell_type": "markdown",
      "metadata": {
        "id": "vsM1tudbGNb8",
        "colab_type": "text"
      },
      "source": [
        "Practical 9  Write a python program to find max value from two values using function."
      ]
    },
    {
      "cell_type": "code",
      "metadata": {
        "id": "OjqTXIXyGSBI",
        "colab_type": "code",
        "colab": {
          "base_uri": "https://localhost:8080/",
          "height": 67
        },
        "outputId": "46329262-32ee-408d-d986-fa140c3ba0a3"
      },
      "source": [
        "a=int(input(\"Enter value 1:\"))\n",
        "b=int(input(\"Enter value 2:\"))\n",
        "def max_value(a,b):\n",
        "    if a>b:\n",
        "      return a\n",
        "    else: \n",
        "      return b\n",
        "print(\"the greater value is:\",max_value(a,b))\n"
      ],
      "execution_count": null,
      "outputs": [
        {
          "output_type": "stream",
          "text": [
            "Enter value 1:25\n",
            "Enter value 2:30\n",
            "the greater value is: 30\n"
          ],
          "name": "stdout"
        }
      ]
    },
    {
      "cell_type": "markdown",
      "metadata": {
        "id": "dzhmtxLXIKkp",
        "colab_type": "text"
      },
      "source": [
        "Practical 10 Write a python program to find factorial of number using function."
      ]
    },
    {
      "cell_type": "code",
      "metadata": {
        "id": "vKTjkM29IPJh",
        "colab_type": "code",
        "colab": {
          "base_uri": "https://localhost:8080/",
          "height": 50
        },
        "outputId": "18ba7b0f-ae39-49a8-a8f1-4e8f7e5be013"
      },
      "source": [
        "n=int(input(\"enter number you want to find factorial of:\"))\n",
        "\n",
        "def fact(n):\n",
        "    if n < 0: \n",
        "        return 0\n",
        "    elif n == 0 or n == 1: \n",
        "        return 1\n",
        "    else: \n",
        "        fact = 1\n",
        "        while(n > 1): \n",
        "            fact *= n \n",
        "            n -= 1\n",
        "        return fact \n",
        "print(\"The factorial of\",n,\"is:\",fact(n))\n"
      ],
      "execution_count": null,
      "outputs": [
        {
          "output_type": "stream",
          "text": [
            "enter number you want to find factorial of:5\n",
            "The factorial of 5 is: 120\n"
          ],
          "name": "stdout"
        }
      ]
    },
    {
      "cell_type": "markdown",
      "metadata": {
        "id": "kEEVTnORJZCe",
        "colab_type": "text"
      },
      "source": [
        "Practical 11 Write a python program using function which display first name and last name in reverse as well according to user choice."
      ]
    },
    {
      "cell_type": "code",
      "metadata": {
        "id": "UhOIIwmhJeYM",
        "colab_type": "code",
        "colab": {
          "base_uri": "https://localhost:8080/",
          "height": 101
        },
        "outputId": "03297e65-bc4d-4f3e-d79e-b7464b20ee48"
      },
      "source": [
        "first=input(\"Enter first name:\")\n",
        "last=input(\"Enter last name:\")\n",
        "def name_rev(first,last):\n",
        "    x=int(input(\"Which order do you want to display name in? 1.Reverse 2.Non-reverse:\\n\"))\n",
        "    if x==1:\n",
        "        string=last+\" \"+first\n",
        "        return string\n",
        "    elif x==2:\n",
        "        string=first+\" \"+last\n",
        "        return string\n",
        "print(\"The name is\",name_rev(first,last))"
      ],
      "execution_count": null,
      "outputs": [
        {
          "output_type": "stream",
          "text": [
            "Enter first name:Nisharg\n",
            "Enter last name:Gosai\n",
            "Which order do you want to display name in? 1.Reverse 2.Non-reverse:\n",
            "1\n",
            "The name is Gosai Nisharg\n"
          ],
          "name": "stdout"
        }
      ]
    },
    {
      "cell_type": "markdown",
      "metadata": {
        "id": "ihVY3Ca0MW6O",
        "colab_type": "text"
      },
      "source": [
        "Practical 12 Write a python program which shows the use of argument/s default value in function."
      ]
    },
    {
      "cell_type": "code",
      "metadata": {
        "id": "-rgak6HsMcay",
        "colab_type": "code",
        "colab": {
          "base_uri": "https://localhost:8080/",
          "height": 50
        },
        "outputId": "76b3ddff-c069-401b-b39c-80ff7c89fde6"
      },
      "source": [
        "def hello(name, loud=False):\n",
        "    if loud:\n",
        "        print('HELLO, {}'.format(name.upper()))\n",
        "    else:\n",
        "        print('Hello, {}!'.format(name))\n",
        "\n",
        "hello('Bob')\n",
        "hello('Fred', loud=True)"
      ],
      "execution_count": null,
      "outputs": [
        {
          "output_type": "stream",
          "text": [
            "Hello, Bob!\n",
            "HELLO, FRED\n"
          ],
          "name": "stdout"
        }
      ]
    },
    {
      "cell_type": "markdown",
      "metadata": {
        "id": "mayl2zXbNit8",
        "colab_type": "text"
      },
      "source": [
        "Practical 13 Write a python program which finds factorial of number using recursion"
      ]
    },
    {
      "cell_type": "code",
      "metadata": {
        "id": "66rwacCPNmrR",
        "colab_type": "code",
        "colab": {
          "base_uri": "https://localhost:8080/",
          "height": 50
        },
        "outputId": "bfeab259-aa45-4446-cd20-c0304d47ebf3"
      },
      "source": [
        "num=int(input(\"Enter the number to find factorial of:\"))\n",
        "def factorial(n): \n",
        "    return 1 if (n==1 or n==0) else n * factorial(n - 1);  \n",
        " \n",
        "print(\"Factorial of\",num,\"is\", factorial(num))"
      ],
      "execution_count": null,
      "outputs": [
        {
          "output_type": "stream",
          "text": [
            "Enter the number to find factorial of:5\n",
            "Factorial of 5 is 120\n"
          ],
          "name": "stdout"
        }
      ]
    },
    {
      "cell_type": "markdown",
      "metadata": {
        "id": "ciANbb7CNm7f",
        "colab_type": "text"
      },
      "source": [
        "Practical 14 Write a python program which print Fibonacci series using recursive function."
      ]
    },
    {
      "cell_type": "code",
      "metadata": {
        "id": "B_PWpl4vNrTK",
        "colab_type": "code",
        "colab": {
          "base_uri": "https://localhost:8080/",
          "height": 50
        },
        "outputId": "26ddbc66-b0b0-4561-9283-ba39cd60cc7b"
      },
      "source": [
        "x=int(input(\"Enter the number till you want to find Fibonacci series:\"))\n",
        "def Fibonacci_series(Number):\n",
        "    if(Number == 0):\n",
        "      return 0\n",
        "    elif(Number == 1):\n",
        "      return 1\n",
        "    else:\n",
        "      return (Fibonacci_series(Number - 2) + Fibonacci_series(Number - 1))\n",
        "  \n",
        "print(\"Fibonacci Series:\", end = ' ')\n",
        "for x in range(0, x):\n",
        "  print(Fibonacci_series(x), end = ' ')"
      ],
      "execution_count": null,
      "outputs": [
        {
          "output_type": "stream",
          "text": [
            "Enter the number till you want to find Fibonacci series:9\n",
            "Fibonacci Series: 0 1 1 2 3 5 8 13 21 "
          ],
          "name": "stdout"
        }
      ]
    },
    {
      "cell_type": "markdown",
      "metadata": {
        "id": "UxEMAO9lNrq3",
        "colab_type": "text"
      },
      "source": [
        "Practical 15 Write a python program to implement student class having rno, name as class variables. Also use constructor and write input and display functions."
      ]
    },
    {
      "cell_type": "code",
      "metadata": {
        "id": "xEBME2ajNweG",
        "colab_type": "code",
        "colab": {}
      },
      "source": [
        "class student : \n",
        "    def __init__(self):\n",
        "        self.rno = 1\n",
        "        self.name = \"Nisharg\"\n",
        "    def input(self):\n",
        "        self.rno = int(input(\"Enter No. = \"))\n",
        "        self.name = input(\"Enter name = \")\n",
        "    def display(self):\n",
        "        print(\"RNO = \" , self.rno)\n",
        "        print(\"NAME =\" , self.name)\n",
        "        \n",
        "s1 = student()\n",
        "s1.input()\n",
        "s2 = student()\n",
        "s2.input()\n",
        "s3= student()\n",
        "s1.display()\n",
        "s2.display()\n",
        "s3.display()\n"
      ],
      "execution_count": null,
      "outputs": []
    }
  ]
}